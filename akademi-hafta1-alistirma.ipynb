{
 "cells": [
  {
   "cell_type": "markdown",
   "metadata": {},
   "source": [
    "## Week 1"
   ]
  },
  {
   "cell_type": "markdown",
   "metadata": {},
   "source": [
    "### Exercise 1:\n",
    "Write a function that receives a list as parameter and return how many elements it has; if it doesn't have any element return an error."
   ]
  },
  {
   "cell_type": "markdown",
   "metadata": {},
   "source": [
    "#### Solution 1:"
   ]
  },
  {
   "cell_type": "code",
   "execution_count": null,
   "metadata": {},
   "outputs": [],
   "source": [
    "def count(lst):\n",
    "    if not lst:\n",
    "        return \"Error: The list is empty\"\n",
    "    else:\n",
    "        return len(lst)\n",
    "\n",
    "myList = [1, 2, 3]\n",
    "result = count(myList)\n",
    "print(\"Number of elements:\", result)"
   ]
  },
  {
   "cell_type": "markdown",
   "metadata": {},
   "source": [
    "### Exercise 2:\n",
    "Write a function that receives a string as parameter and return the number of each character in it."
   ]
  },
  {
   "cell_type": "code",
   "execution_count": null,
   "metadata": {},
   "outputs": [],
   "source": [
    "def count(input):\n",
    "    charCount = {}  \n",
    "\n",
    "    for char in input:\n",
    "        if char in charCount:\n",
    "            charCount[char] += 1\n",
    "        else:\n",
    "            charCount[char] = 1\n",
    "\n",
    "    return charCount\n",
    "\n",
    "inputString = \"hellooo\"\n",
    "result = count(inputString)\n",
    "print(result)"
   ]
  }
 ],
 "metadata": {
  "language_info": {
   "name": "python"
  }
 },
 "nbformat": 4,
 "nbformat_minor": 2
}
